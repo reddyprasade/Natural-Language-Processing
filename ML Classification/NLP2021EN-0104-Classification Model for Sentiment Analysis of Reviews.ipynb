{
  "cells":[
    {
      "cell_type":"markdown",
      "source":[
        "**Case Study:**\n",
        "\n",
        "        Text Analysis is an important application of machine learning algorithms. \n",
        "        Since the raw text or a sequence of symbols cannot be fed directly to the algorithms themselves as most of them expect numerical feature vectors with proper dimensions rather than the raw text documents which is an example of unstructured data. \n",
        "        \n",
        "        For Classification you will be using Machine Learning Algorithms such as Logistic Regression. \n",
        "        You will also be using some NLP techniques such as count Vectorizer and Term Frequency-Inverse document Matrix (TF-IDF)\n",
        "\n",
        "[Data Set](http:\/\/jmcauley.ucsd.edu\/data\/amazon\/)\n",
        "\n",
        "**Some steps mentioned below:**\n",
        "\n",
        "* Data Preparation, In this section you will prepare our data from simple text and ratings to a matrix that is acceptable by Ma chine Learning Algorithms.\n",
        "* Applying NLP techniques to extract features out of text such as Tokenization and TF-IDF you will be using scikit learn.\n",
        "* Building a Classification Model.\n",
        "* Evaluating Model\n",
        "* Finally Predicting a new review that even you can write by yourself (but beware the words you use in your review should be there in training set, else you will get an Error!)."
      ],
      "attachments":{
        
      },
      "metadata":{
        
      }
    },
    {
      "cell_type":"code",
      "source":[
        "import numpy as np\n",
        "import pandas as pd\n",
        "import seaborn as sns\n",
        "import matplotlib.pyplot as plt\n",
        "from sklearn.model_selection import train_test_split\n",
        "from sklearn.linear_model import LogisticRegression\n",
        "from sklearn.naive_bayes import BernoulliNB,GaussianNB,ComplementNB,CategoricalNB,MultinomialNB"
      ],
      "execution_count":1,
      "outputs":[
        
      ],
      "metadata":{
        
      }
    },
    {
      "cell_type":"code",
      "source":[
        "df = pd.read_csv('Amazon_reviews.csv')\n",
        "df.head()"
      ],
      "execution_count":2,
      "outputs":[
        {
          "data":{
            "text\/html":[
              "<div>\n",
              "<style scoped>\n",
              "    .dataframe tbody tr th:only-of-type {\n",
              "        vertical-align: middle;\n",
              "    }\n",
              "\n",
              "    .dataframe tbody tr th {\n",
              "        vertical-align: top;\n",
              "    }\n",
              "\n",
              "    .dataframe thead th {\n",
              "        text-align: right;\n",
              "    }\n",
              "<\/style>\n",
              "<table border=\"1\" class=\"dataframe\">\n",
              "  <thead>\n",
              "    <tr style=\"text-align: right;\">\n",
              "      <th><\/th>\n",
              "      <th>Product Name<\/th>\n",
              "      <th>Brand Name<\/th>\n",
              "      <th>Price<\/th>\n",
              "      <th>Rating<\/th>\n",
              "      <th>Reviews<\/th>\n",
              "      <th>Review Votes<\/th>\n",
              "    <\/tr>\n",
              "  <\/thead>\n",
              "  <tbody>\n",
              "    <tr>\n",
              "      <th>0<\/th>\n",
              "      <td>Sony XPERIA Z2 D6503 FACTORY UNLOCKED Internat...<\/td>\n",
              "      <td>NaN<\/td>\n",
              "      <td>244.95<\/td>\n",
              "      <td>5<\/td>\n",
              "      <td>Very good one! Better than Samsung S and iphon...<\/td>\n",
              "      <td>0.0<\/td>\n",
              "    <\/tr>\n",
              "    <tr>\n",
              "      <th>1<\/th>\n",
              "      <td>Apple iPhone 5c 8GB (Pink) - Verizon Wireless<\/td>\n",
              "      <td>Apple<\/td>\n",
              "      <td>194.99<\/td>\n",
              "      <td>1<\/td>\n",
              "      <td>The phone needed a SIM card, would have been n...<\/td>\n",
              "      <td>1.0<\/td>\n",
              "    <\/tr>\n",
              "    <tr>\n",
              "      <th>2<\/th>\n",
              "      <td>Motorola Droid RAZR MAXX XT912 M Verizon Smart...<\/td>\n",
              "      <td>Motorola<\/td>\n",
              "      <td>174.99<\/td>\n",
              "      <td>5<\/td>\n",
              "      <td>I was 3 months away from my upgrade and my Str...<\/td>\n",
              "      <td>3.0<\/td>\n",
              "    <\/tr>\n",
              "    <tr>\n",
              "      <th>3<\/th>\n",
              "      <td>CNPGD [U.S. Office Extended Warranty] Smartwat...<\/td>\n",
              "      <td>CNPGD<\/td>\n",
              "      <td>49.99<\/td>\n",
              "      <td>1<\/td>\n",
              "      <td>an experience i want to forget<\/td>\n",
              "      <td>0.0<\/td>\n",
              "    <\/tr>\n",
              "    <tr>\n",
              "      <th>4<\/th>\n",
              "      <td>Apple iPhone 7 Unlocked Phone 256 GB - US Vers...<\/td>\n",
              "      <td>Apple<\/td>\n",
              "      <td>922.00<\/td>\n",
              "      <td>5<\/td>\n",
              "      <td>GREAT PHONE WORK ACCORDING MY EXPECTATIONS.<\/td>\n",
              "      <td>1.0<\/td>\n",
              "    <\/tr>\n",
              "  <\/tbody>\n",
              "<\/table>\n",
              "<\/div>"
            ]
          },
          "metadata":{
            
          },
          "output_type":"display_data"
        }
      ],
      "metadata":{
        
      }
    },
    {
      "cell_type":"markdown",
      "source":[
        "To avoid errors in further steps like the modeling part it is better to drop rows which have missing values."
      ],
      "attachments":{
        
      },
      "metadata":{
        
      }
    },
    {
      "cell_type":"code",
      "source":[
        "df.dropna(inplace=True)"
      ],
      "execution_count":3,
      "outputs":[
        
      ],
      "metadata":{
        
      }
    },
    {
      "cell_type":"markdown",
      "source":[
        "Now, the question is how you can define a review to be a positive one or a negative, so for this you are creating a binary variable \"Positively_Rated\" in which 1 signifies a review is Positively rated and 0 means Negative rated, adding it to our dataset. A simple rule to mark a positive and negative rating can be obtained by selecting rating > 3 as **1 (positively rated)** and others as **0 (Negatively rated)** removing neutral ratings which is equal to 3."
      ],
      "attachments":{
        
      },
      "metadata":{
        
      }
    },
    {
      "cell_type":"code",
      "source":[
        "df = df[df['Rating']!=3]\n",
        "df['Positively_Rated'] = np.where(df['Rating']>3,1,0)\n",
        "df.head()"
      ],
      "execution_count":4,
      "outputs":[
        {
          "data":{
            "text\/html":[
              "<div>\n",
              "<style scoped>\n",
              "    .dataframe tbody tr th:only-of-type {\n",
              "        vertical-align: middle;\n",
              "    }\n",
              "\n",
              "    .dataframe tbody tr th {\n",
              "        vertical-align: top;\n",
              "    }\n",
              "\n",
              "    .dataframe thead th {\n",
              "        text-align: right;\n",
              "    }\n",
              "<\/style>\n",
              "<table border=\"1\" class=\"dataframe\">\n",
              "  <thead>\n",
              "    <tr style=\"text-align: right;\">\n",
              "      <th><\/th>\n",
              "      <th>Product Name<\/th>\n",
              "      <th>Brand Name<\/th>\n",
              "      <th>Price<\/th>\n",
              "      <th>Rating<\/th>\n",
              "      <th>Reviews<\/th>\n",
              "      <th>Review Votes<\/th>\n",
              "      <th>Positively_Rated<\/th>\n",
              "    <\/tr>\n",
              "  <\/thead>\n",
              "  <tbody>\n",
              "    <tr>\n",
              "      <th>1<\/th>\n",
              "      <td>Apple iPhone 5c 8GB (Pink) - Verizon Wireless<\/td>\n",
              "      <td>Apple<\/td>\n",
              "      <td>194.99<\/td>\n",
              "      <td>1<\/td>\n",
              "      <td>The phone needed a SIM card, would have been n...<\/td>\n",
              "      <td>1.0<\/td>\n",
              "      <td>0<\/td>\n",
              "    <\/tr>\n",
              "    <tr>\n",
              "      <th>2<\/th>\n",
              "      <td>Motorola Droid RAZR MAXX XT912 M Verizon Smart...<\/td>\n",
              "      <td>Motorola<\/td>\n",
              "      <td>174.99<\/td>\n",
              "      <td>5<\/td>\n",
              "      <td>I was 3 months away from my upgrade and my Str...<\/td>\n",
              "      <td>3.0<\/td>\n",
              "      <td>1<\/td>\n",
              "    <\/tr>\n",
              "    <tr>\n",
              "      <th>3<\/th>\n",
              "      <td>CNPGD [U.S. Office Extended Warranty] Smartwat...<\/td>\n",
              "      <td>CNPGD<\/td>\n",
              "      <td>49.99<\/td>\n",
              "      <td>1<\/td>\n",
              "      <td>an experience i want to forget<\/td>\n",
              "      <td>0.0<\/td>\n",
              "      <td>0<\/td>\n",
              "    <\/tr>\n",
              "    <tr>\n",
              "      <th>4<\/th>\n",
              "      <td>Apple iPhone 7 Unlocked Phone 256 GB - US Vers...<\/td>\n",
              "      <td>Apple<\/td>\n",
              "      <td>922.00<\/td>\n",
              "      <td>5<\/td>\n",
              "      <td>GREAT PHONE WORK ACCORDING MY EXPECTATIONS.<\/td>\n",
              "      <td>1.0<\/td>\n",
              "      <td>1<\/td>\n",
              "    <\/tr>\n",
              "    <tr>\n",
              "      <th>5<\/th>\n",
              "      <td>Nokia N8 Unlocked GSM Touch Screen Phone Featu...<\/td>\n",
              "      <td>Nokia<\/td>\n",
              "      <td>95.00<\/td>\n",
              "      <td>5<\/td>\n",
              "      <td>I fell in love with this phone because it did ...<\/td>\n",
              "      <td>0.0<\/td>\n",
              "      <td>1<\/td>\n",
              "    <\/tr>\n",
              "  <\/tbody>\n",
              "<\/table>\n",
              "<\/div>"
            ]
          },
          "metadata":{
            
          },
          "output_type":"display_data"
        }
      ],
      "metadata":{
        
      }
    },
    {
      "cell_type":"markdown",
      "source":[
        "#### **Class Proportion**\n",
        "\n",
        "* Using simple Pandas Crosstab function you can have a look of what proportion of observations are positively and negatively rated. \n",
        "* This step helps a lot while during the modeling part since it is important to know **class imbalance** before you start building model. \n",
        "* **Class imbalance** affects your model, if you have quite less amount of observations for a certain class over other classes, which at the end becomes difficult for an algorithm to learn and differentiate among other classes due to lack of examples."
      ],
      "attachments":{
        
      },
      "metadata":{
        
      }
    },
    {
      "cell_type":"code",
      "source":[
        "pd.crosstab(index= df['Positively_Rated'],columns='Total Count')"
      ],
      "execution_count":5,
      "outputs":[
        {
          "data":{
            "text\/html":[
              "<div>\n",
              "<style scoped>\n",
              "    .dataframe tbody tr th:only-of-type {\n",
              "        vertical-align: middle;\n",
              "    }\n",
              "\n",
              "    .dataframe tbody tr th {\n",
              "        vertical-align: top;\n",
              "    }\n",
              "\n",
              "    .dataframe thead th {\n",
              "        text-align: right;\n",
              "    }\n",
              "<\/style>\n",
              "<table border=\"1\" class=\"dataframe\">\n",
              "  <thead>\n",
              "    <tr style=\"text-align: right;\">\n",
              "      <th>col_0<\/th>\n",
              "      <th>Total Count<\/th>\n",
              "    <\/tr>\n",
              "    <tr>\n",
              "      <th>Positively_Rated<\/th>\n",
              "      <th><\/th>\n",
              "    <\/tr>\n",
              "  <\/thead>\n",
              "  <tbody>\n",
              "    <tr>\n",
              "      <th>0<\/th>\n",
              "      <td>7771<\/td>\n",
              "    <\/tr>\n",
              "    <tr>\n",
              "      <th>1<\/th>\n",
              "      <td>22966<\/td>\n",
              "    <\/tr>\n",
              "  <\/tbody>\n",
              "<\/table>\n",
              "<\/div>"
            ]
          },
          "metadata":{
            
          },
          "output_type":"display_data"
        }
      ],
      "metadata":{
        
      }
    },
    {
      "cell_type":"markdown",
      "source":[
        "We got Immbalance lables in 0 is 7771 and 1 is 22966 which is Not Equal due to this we got Immbalanceing data to handle in sklearn we have different method **`sklearn.model_selection.StratifiedShuffleSplit()`**"
      ],
      "attachments":{
        
      },
      "metadata":{
        
      }
    },
    {
      "cell_type":"code",
      "source":[
        "df.head()"
      ],
      "execution_count":6,
      "outputs":[
        {
          "data":{
            "text\/html":[
              "<div>\n",
              "<style scoped>\n",
              "    .dataframe tbody tr th:only-of-type {\n",
              "        vertical-align: middle;\n",
              "    }\n",
              "\n",
              "    .dataframe tbody tr th {\n",
              "        vertical-align: top;\n",
              "    }\n",
              "\n",
              "    .dataframe thead th {\n",
              "        text-align: right;\n",
              "    }\n",
              "<\/style>\n",
              "<table border=\"1\" class=\"dataframe\">\n",
              "  <thead>\n",
              "    <tr style=\"text-align: right;\">\n",
              "      <th><\/th>\n",
              "      <th>Product Name<\/th>\n",
              "      <th>Brand Name<\/th>\n",
              "      <th>Price<\/th>\n",
              "      <th>Rating<\/th>\n",
              "      <th>Reviews<\/th>\n",
              "      <th>Review Votes<\/th>\n",
              "      <th>Positively_Rated<\/th>\n",
              "    <\/tr>\n",
              "  <\/thead>\n",
              "  <tbody>\n",
              "    <tr>\n",
              "      <th>1<\/th>\n",
              "      <td>Apple iPhone 5c 8GB (Pink) - Verizon Wireless<\/td>\n",
              "      <td>Apple<\/td>\n",
              "      <td>194.99<\/td>\n",
              "      <td>1<\/td>\n",
              "      <td>The phone needed a SIM card, would have been n...<\/td>\n",
              "      <td>1.0<\/td>\n",
              "      <td>0<\/td>\n",
              "    <\/tr>\n",
              "    <tr>\n",
              "      <th>2<\/th>\n",
              "      <td>Motorola Droid RAZR MAXX XT912 M Verizon Smart...<\/td>\n",
              "      <td>Motorola<\/td>\n",
              "      <td>174.99<\/td>\n",
              "      <td>5<\/td>\n",
              "      <td>I was 3 months away from my upgrade and my Str...<\/td>\n",
              "      <td>3.0<\/td>\n",
              "      <td>1<\/td>\n",
              "    <\/tr>\n",
              "    <tr>\n",
              "      <th>3<\/th>\n",
              "      <td>CNPGD [U.S. Office Extended Warranty] Smartwat...<\/td>\n",
              "      <td>CNPGD<\/td>\n",
              "      <td>49.99<\/td>\n",
              "      <td>1<\/td>\n",
              "      <td>an experience i want to forget<\/td>\n",
              "      <td>0.0<\/td>\n",
              "      <td>0<\/td>\n",
              "    <\/tr>\n",
              "    <tr>\n",
              "      <th>4<\/th>\n",
              "      <td>Apple iPhone 7 Unlocked Phone 256 GB - US Vers...<\/td>\n",
              "      <td>Apple<\/td>\n",
              "      <td>922.00<\/td>\n",
              "      <td>5<\/td>\n",
              "      <td>GREAT PHONE WORK ACCORDING MY EXPECTATIONS.<\/td>\n",
              "      <td>1.0<\/td>\n",
              "      <td>1<\/td>\n",
              "    <\/tr>\n",
              "    <tr>\n",
              "      <th>5<\/th>\n",
              "      <td>Nokia N8 Unlocked GSM Touch Screen Phone Featu...<\/td>\n",
              "      <td>Nokia<\/td>\n",
              "      <td>95.00<\/td>\n",
              "      <td>5<\/td>\n",
              "      <td>I fell in love with this phone because it did ...<\/td>\n",
              "      <td>0.0<\/td>\n",
              "      <td>1<\/td>\n",
              "    <\/tr>\n",
              "  <\/tbody>\n",
              "<\/table>\n",
              "<\/div>"
            ]
          },
          "metadata":{
            
          },
          "output_type":"display_data"
        }
      ],
      "metadata":{
        
      }
    },
    {
      "cell_type":"code",
      "source":[
        "Features = df['Reviews']\n",
        "Target = df['Positively_Rated']"
      ],
      "execution_count":21,
      "outputs":[
        
      ],
      "metadata":{
        
      }
    },
    {
      "cell_type":"code",
      "source":[
        "from sklearn.model_selection import train_test_split\n",
        "X_train, X_test, y_train, y_test  = train_test_split(Features,Target,random_state=0)"
      ],
      "execution_count":22,
      "outputs":[
        
      ],
      "metadata":{
        
      }
    },
    {
      "cell_type":"code",
      "source":[
        "print(\"Feature Training Size is:\",X_train.shape)\n",
        "print(\"Feature Testing Size is:\",X_test.shape)"
      ],
      "execution_count":23,
      "outputs":[
        {
          "name":"stdout",
          "text":[
            "Feature Training Size is: (23052,)\n",
            "Feature Testing Size is: (7685,)\n"
          ],
          "output_type":"stream"
        }
      ],
      "metadata":{
        
      }
    },
    {
      "cell_type":"code",
      "source":[
        "print(\"Target Training Size is:\",y_train.shape)\n",
        "print(\"Target Testing Size is:\",y_test.shape)"
      ],
      "execution_count":24,
      "outputs":[
        {
          "name":"stdout",
          "text":[
            "Target Training Size is: (23052,)\n",
            "Target Testing Size is: (7685,)\n"
          ],
          "output_type":"stream"
        }
      ],
      "metadata":{
        
      }
    },
    {
      "cell_type":"code",
      "source":[
        "X_train"
      ],
      "execution_count":25,
      "outputs":[
        {
          "data":{
            "text\/plain":[
              "25808                      Everything about it is awesome!\n",
              "12625    I bought this phone in July of 2015, and I lov...\n",
              "422      Small and very light, simple, when just a phon...\n",
              "35138                                        Awesome phone\n",
              "12831    The phone is just as described. Looks sleek an...\n",
              "                               ...                        \n",
              "17602    I am having the hardest time getting a SIM car...\n",
              "26357                                            NUEVECITO\n",
              "13196    I am a very satisfied customer and would highl...\n",
              "14463    First of all there are few choices in sub 5\" A...\n",
              "3665     Within 2weeks of owning the phone it shown a u...\n",
              "Name: Reviews, Length: 23052, dtype: object"
            ]
          },
          "metadata":{
            
          },
          "output_type":"display_data"
        }
      ],
      "metadata":{
        
      }
    },
    {
      "cell_type":"markdown",
      "source":[
        "**Tokenization**"
      ],
      "attachments":{
        
      },
      "metadata":{
        
      }
    },
    {
      "cell_type":"code",
      "source":[
        "from sklearn.feature_extraction.text import CountVectorizer"
      ],
      "execution_count":26,
      "outputs":[
        
      ],
      "metadata":{
        
      }
    },
    {
      "cell_type":"code",
      "source":[
        "vect = CountVectorizer().fit(X_train)\n",
        "# Array mapping from feature integer indices to feature name\n",
        "vect.get_feature_names()[::2000]"
      ],
      "execution_count":27,
      "outputs":[
        {
          "data":{
            "text\/plain":[
              "['00',\n",
              " 'arroja',\n",
              " 'comapañias',\n",
              " 'dvds',\n",
              " 'golden',\n",
              " 'lands',\n",
              " 'oil',\n",
              " 'razonable',\n",
              " 'smallsliver',\n",
              " 'tweak']"
            ]
          },
          "metadata":{
            
          },
          "output_type":"display_data"
        }
      ],
      "metadata":{
        
      }
    },
    {
      "cell_type":"code",
      "source":[
        "# transform the documents in the training data to a document-term matrix\n",
        "X_train_vectorized = vect.transform(X_train)\n",
        "print('Shape of matrix', X_train_vectorized.shape)"
      ],
      "execution_count":28,
      "outputs":[
        {
          "name":"stdout",
          "text":[
            "Shape of matrix (23052, 19601)\n"
          ],
          "output_type":"stream"
        }
      ],
      "metadata":{
        
      }
    },
    {
      "cell_type":"code",
      "source":[
        "X_train_vectorized.toarray()"
      ],
      "execution_count":29,
      "outputs":[
        {
          "data":{
            "text\/plain":[
              "array([[0, 0, 0, ..., 0, 0, 0],\n",
              "       [0, 0, 0, ..., 0, 0, 0],\n",
              "       [0, 0, 0, ..., 0, 0, 0],\n",
              "       ...,\n",
              "       [0, 0, 0, ..., 0, 0, 0],\n",
              "       [0, 0, 0, ..., 0, 0, 0],\n",
              "       [0, 0, 0, ..., 0, 0, 0]])"
            ]
          },
          "metadata":{
            
          },
          "output_type":"display_data"
        }
      ],
      "metadata":{
        
      }
    },
    {
      "cell_type":"code",
      "source":[
        "from sklearn.linear_model import LogisticRegression,SGDClassifier\n",
        "# Train the model\n",
        "model = LogisticRegression()\n",
        "\n",
        "model.fit(X_train_vectorized, y_train)"
      ],
      "execution_count":30,
      "outputs":[
        {
          "name":"stderr",
          "text":[
            "\/opt\/python\/envs\/default\/lib\/python3.8\/site-packages\/sklearn\/linear_model\/_logistic.py:763: ConvergenceWarning: lbfgs failed to converge (status=1):\n",
            "STOP: TOTAL NO. of ITERATIONS REACHED LIMIT.\n",
            "\n",
            "Increase the number of iterations (max_iter) or scale the data as shown in:\n",
            "    https:\/\/scikit-learn.org\/stable\/modules\/preprocessing.html\n",
            "Please also refer to the documentation for alternative solver options:\n",
            "    https:\/\/scikit-learn.org\/stable\/modules\/linear_model.html#logistic-regression\n",
            "  n_iter_i = _check_optimize_result(\n"
          ],
          "output_type":"stream"
        },
        {
          "data":{
            "text\/plain":[
              "LogisticRegression()"
            ]
          },
          "metadata":{
            
          },
          "output_type":"display_data"
        }
      ],
      "metadata":{
        
      }
    },
    {
      "cell_type":"code",
      "source":[
        "from sklearn.metrics import roc_curve, roc_auc_score, auc\n",
        "# Predict the transformed test documents\n",
        "predictions = model.predict(vect.transform(X_test))\n",
        "print('AUC: ', roc_auc_score(y_test, predictions))\n",
        "false_positive_rate, true_positive_rate, thresholds = roc_curve(y_test, predictions)\n",
        "roc_auc = auc(false_positive_rate, true_positive_rate)"
      ],
      "execution_count":31,
      "outputs":[
        {
          "name":"stdout",
          "text":[
            "AUC:  0.8972615386663231\n"
          ],
          "output_type":"stream"
        }
      ],
      "metadata":{
        
      }
    },
    {
      "cell_type":"code",
      "source":[
        "plt.title('Receiver Operating Characteristic')\n",
        "plt.plot(false_positive_rate, true_positive_rate, 'b', label='AUC = %0.3f'% roc_auc)\n",
        "plt.legend(loc='lower right')\n",
        "plt.plot([0,1],[0,1],'r--')\n",
        "plt.ylabel('True Positive Rate')\n",
        "plt.xlabel('False Positive Rate')"
      ],
      "execution_count":32,
      "outputs":[
        {
          "data":{
            "text\/plain":[
              "Text(0.5, 0, 'False Positive Rate')"
            ],
            "image\/png":"[encoded data removed]"
          },
          "metadata":{
            "image\/png":{
              
            }
          },
          "output_type":"display_data"
        }
      ],
      "metadata":{
        
      }
    },
    {
      "cell_type":"code",
      "source":[
        "from sklearn.feature_extraction.text import TfidfVectorizer\n",
        "# Fit the TfidfVectorizer to the training data specifiying a minimum document frequency of 5; \n",
        "# you can play with it and see how accuracy changes \n",
        "vect_tf = TfidfVectorizer(min_df=5).fit(X_train)"
      ],
      "execution_count":33,
      "outputs":[
        
      ],
      "metadata":{
        
      }
    },
    {
      "cell_type":"code",
      "source":[
        "X_train_vectorized_tf = vect.transform(X_train)\n",
        "model = LogisticRegression()\n",
        "model.fit(X_train_vectorized_tf, y_train)\n",
        "predictions_tf = model.predict(vect.transform(X_test))\n",
        "print('AUC: ', roc_auc_score(y_test, predictions_tf))"
      ],
      "execution_count":34,
      "outputs":[
        {
          "name":"stdout",
          "text":[
            "AUC:  0.8972615386663231\n"
          ],
          "output_type":"stream"
        },
        {
          "name":"stderr",
          "text":[
            "\/opt\/python\/envs\/default\/lib\/python3.8\/site-packages\/sklearn\/linear_model\/_logistic.py:763: ConvergenceWarning: lbfgs failed to converge (status=1):\n",
            "STOP: TOTAL NO. of ITERATIONS REACHED LIMIT.\n",
            "\n",
            "Increase the number of iterations (max_iter) or scale the data as shown in:\n",
            "    https:\/\/scikit-learn.org\/stable\/modules\/preprocessing.html\n",
            "Please also refer to the documentation for alternative solver options:\n",
            "    https:\/\/scikit-learn.org\/stable\/modules\/linear_model.html#logistic-regression\n",
            "  n_iter_i = _check_optimize_result(\n"
          ],
          "output_type":"stream"
        }
      ],
      "metadata":{
        
      }
    },
    {
      "cell_type":"code",
      "source":[
        "print(model.predict(vect.transform([\n",
        "                                    'Not an issue with my phone is working',\n",
        "                                    \"an issue, now touch is not working\",\n",
        "                                   \"phone is working\",\n",
        "                                    \"My perfomace of mobile is good but with touch i have issue\"\n",
        "])))"
      ],
      "execution_count":38,
      "outputs":[
        {
          "name":"stdout",
          "text":[
            "[0 0 1 1]\n"
          ],
          "output_type":"stream"
        }
      ],
      "metadata":{
        
      }
    },
    {
      "cell_type":"code",
      "source":[
        "vect = CountVectorizer(min_df=5, ngram_range=(1,2)).fit(X_train)\n",
        "X_train_vectorized = vect.transform(X_train)"
      ],
      "execution_count":39,
      "outputs":[
        
      ],
      "metadata":{
        
      }
    },
    {
      "cell_type":"code",
      "source":[
        "\n",
        "model = LogisticRegression()\n",
        "model.fit(X_train_vectorized, y_train)\n",
        "predictions = model.predict(vect.transform(X_test))\n",
        "false_positive_rate, true_positive_rate, thresholds = roc_curve(y_test, predictions)\n",
        "roc_auc = auc(false_positive_rate, true_positive_rate)\n",
        "print('AUC: ', roc_auc_score(y_test, predictions))"
      ],
      "execution_count":40,
      "outputs":[
        {
          "name":"stdout",
          "text":[
            "AUC:  0.9104640361714084\n"
          ],
          "output_type":"stream"
        },
        {
          "name":"stderr",
          "text":[
            "\/opt\/python\/envs\/default\/lib\/python3.8\/site-packages\/sklearn\/linear_model\/_logistic.py:763: ConvergenceWarning: lbfgs failed to converge (status=1):\n",
            "STOP: TOTAL NO. of ITERATIONS REACHED LIMIT.\n",
            "\n",
            "Increase the number of iterations (max_iter) or scale the data as shown in:\n",
            "    https:\/\/scikit-learn.org\/stable\/modules\/preprocessing.html\n",
            "Please also refer to the documentation for alternative solver options:\n",
            "    https:\/\/scikit-learn.org\/stable\/modules\/linear_model.html#logistic-regression\n",
            "  n_iter_i = _check_optimize_result(\n"
          ],
          "output_type":"stream"
        }
      ],
      "metadata":{
        
      }
    },
    {
      "cell_type":"code",
      "source":[
        "plt.title('Receiver Operating Characteristic')\n",
        "plt.plot(false_positive_rate, true_positive_rate, 'b', label='AUC = %0.3f'% roc_auc)\n",
        "plt.legend(loc='lower right')\n",
        "plt.plot([0,1],[0,1],'r--')\n",
        "plt.ylabel('True Positive Rate')\n",
        "plt.xlabel('False Positive Rate')"
      ],
      "execution_count":41,
      "outputs":[
        {
          "data":{
            "text\/plain":[
              "Text(0.5, 0, 'False Positive Rate')"
            ],
            "image\/png":"[encoded data removed]"
          },
          "metadata":{
            "image\/png":{
              
            }
          },
          "output_type":"display_data"
        }
      ],
      "metadata":{
        
      }
    },
    {
      "cell_type":"code",
      "source":[
        "print(model.predict(vect.transform([\n",
        "                                    'Not an issue with my phone is working',\n",
        "                                    \"an issue, now touch is not working\",\n",
        "                                   \"phone is working\",\n",
        "                                    \"My perfomace of mobile is good but with touch i have issue\"\n",
        "])))"
      ],
      "execution_count":42,
      "outputs":[
        {
          "name":"stdout",
          "text":[
            "[1 0 1 1]\n"
          ],
          "output_type":"stream"
        }
      ],
      "metadata":{
        
      }
    },
    {
      "cell_type":"code",
      "source":[
        "print(model.predict(vect.transform([\"when i click selfie it's Good\",\n",
        "                                    \"I Click on selfie Some what not ok\"])))"
      ],
      "execution_count":48,
      "outputs":[
        {
          "name":"stdout",
          "text":[
            "[1 1]\n"
          ],
          "output_type":"stream"
        }
      ],
      "metadata":{
        
      }
    },
    {
      "cell_type":"code",
      "source":[
        
      ],
      "execution_count":0,
      "outputs":[
        
      ],
      "metadata":{
        
      }
    }
  ],
  "metadata":{
    
  },
  "nbformat":4,
  "nbformat_minor":0
}