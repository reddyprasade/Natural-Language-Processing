{
  "cells":[
    {
      "cell_type":"markdown",
      "source":[
        "# Machine Learning and NLP Exercises #"
      ],
      "attachments":{
        
      },
      "metadata":{
        
      }
    },
    {
      "cell_type":"markdown",
      "source":[
        "## Introduction ##"
      ],
      "attachments":{
        
      },
      "metadata":{
        
      }
    },
    {
      "cell_type":"markdown",
      "source":[
        "We will be using the same review data set from Kaggle from Week 2 for this exercise. \n",
        "\n",
        "* The product we'll focus on this time is a cappuccino cup. The goal of this week is to not only preprocess the data, but to classify reviews as positive or negative based on the review text.\n",
        "\n",
        "The following code will help you load in the data."
      ],
      "attachments":{
        
      },
      "metadata":{
        
      }
    },
    {
      "cell_type":"code",
      "source":[
        "import nltk\n",
        "import pandas as pd"
      ],
      "execution_count":2,
      "outputs":[
        
      ],
      "metadata":{
        
      }
    },
    {
      "cell_type":"code",
      "source":[
        "data = pd.read_csv('Data\/coffee.csv')\n",
        "data.head()"
      ],
      "execution_count":3,
      "outputs":[
        {
          "data":{
            "text\/html":[
              "<div>\n",
              "<style scoped>\n",
              "    .dataframe tbody tr th:only-of-type {\n",
              "        vertical-align: middle;\n",
              "    }\n",
              "\n",
              "    .dataframe tbody tr th {\n",
              "        vertical-align: top;\n",
              "    }\n",
              "\n",
              "    .dataframe thead th {\n",
              "        text-align: right;\n",
              "    }\n",
              "<\/style>\n",
              "<table border=\"1\" class=\"dataframe\">\n",
              "  <thead>\n",
              "    <tr style=\"text-align: right;\">\n",
              "      <th><\/th>\n",
              "      <th>user_id<\/th>\n",
              "      <th>stars<\/th>\n",
              "      <th>reviews<\/th>\n",
              "    <\/tr>\n",
              "  <\/thead>\n",
              "  <tbody>\n",
              "    <tr>\n",
              "      <th>0<\/th>\n",
              "      <td>A2XP9IN4JOMROD<\/td>\n",
              "      <td>1<\/td>\n",
              "      <td>I wanted to love this. I was even prepared for...<\/td>\n",
              "    <\/tr>\n",
              "    <tr>\n",
              "      <th>1<\/th>\n",
              "      <td>A2TS09JCXNV1VD<\/td>\n",
              "      <td>5<\/td>\n",
              "      <td>Grove Square Cappuccino Cups were excellent. T...<\/td>\n",
              "    <\/tr>\n",
              "    <tr>\n",
              "      <th>2<\/th>\n",
              "      <td>AJ3L5J7GN09SV<\/td>\n",
              "      <td>2<\/td>\n",
              "      <td>I bought the Grove Square hazelnut cappuccino ...<\/td>\n",
              "    <\/tr>\n",
              "    <tr>\n",
              "      <th>3<\/th>\n",
              "      <td>A3CZD34ZTUJME7<\/td>\n",
              "      <td>1<\/td>\n",
              "      <td>I love my Keurig, and I love most of the Keuri...<\/td>\n",
              "    <\/tr>\n",
              "    <tr>\n",
              "      <th>4<\/th>\n",
              "      <td>AWKN396SHAQGP<\/td>\n",
              "      <td>1<\/td>\n",
              "      <td>It's a powdered drink. No filter in k-cup.&lt;br ...<\/td>\n",
              "    <\/tr>\n",
              "  <\/tbody>\n",
              "<\/table>\n",
              "<\/div>"
            ]
          },
          "metadata":{
            
          },
          "output_type":"display_data"
        }
      ],
      "metadata":{
        
      }
    },
    {
      "cell_type":"markdown",
      "source":[
        "## Question 1 ##"
      ],
      "attachments":{
        
      },
      "metadata":{
        
      }
    },
    {
      "cell_type":"markdown",
      "source":[
        "* Determine how many reviews there are in total.\n",
        "* Determine the percent of 1, 2, 3, 4 and 5 star reviews.\n",
        "* Create a new data set for modeling with the following columns:\n",
        "     - Column 1: 'positive' if review = 4 or 5, and 'negative' if review = 1 or 2\n",
        "     - Column 2: review text\n",
        "* Take a look at the number of positive and negative reviews in the newly created data set.\n",
        "\n",
        "Checkpoint: the resulting data set should have 514 reviews.\n",
        "\n",
        "Use the preprocessing code below to clean the reviews data before moving on to modeling."
      ],
      "attachments":{
        
      },
      "metadata":{
        
      }
    },
    {
      "cell_type":"code",
      "source":[
        "# Text preprocessing steps - remove numbers, captial letters and punctuation\n",
        "import re\n",
        "import string\n",
        "\n",
        "alphanumeric = lambda x: re.sub(r\"\"\"\\w*\\d\\w*\"\"\", ' ', x)\n",
        "punc_lower = lambda x: re.sub('[%s]' % re.escape(string.punctuation), ' ', x.lower())\n",
        "\n",
        "data['reviews'] = data.reviews.map(alphanumeric).map(punc_lower)\n",
        "data.head()"
      ],
      "execution_count":4,
      "outputs":[
        {
          "data":{
            "text\/html":[
              "<div>\n",
              "<style scoped>\n",
              "    .dataframe tbody tr th:only-of-type {\n",
              "        vertical-align: middle;\n",
              "    }\n",
              "\n",
              "    .dataframe tbody tr th {\n",
              "        vertical-align: top;\n",
              "    }\n",
              "\n",
              "    .dataframe thead th {\n",
              "        text-align: right;\n",
              "    }\n",
              "<\/style>\n",
              "<table border=\"1\" class=\"dataframe\">\n",
              "  <thead>\n",
              "    <tr style=\"text-align: right;\">\n",
              "      <th><\/th>\n",
              "      <th>user_id<\/th>\n",
              "      <th>stars<\/th>\n",
              "      <th>reviews<\/th>\n",
              "    <\/tr>\n",
              "  <\/thead>\n",
              "  <tbody>\n",
              "    <tr>\n",
              "      <th>0<\/th>\n",
              "      <td>A2XP9IN4JOMROD<\/td>\n",
              "      <td>1<\/td>\n",
              "      <td>i wanted to love this  i was even prepared for...<\/td>\n",
              "    <\/tr>\n",
              "    <tr>\n",
              "      <th>1<\/th>\n",
              "      <td>A2TS09JCXNV1VD<\/td>\n",
              "      <td>5<\/td>\n",
              "      <td>grove square cappuccino cups were excellent  t...<\/td>\n",
              "    <\/tr>\n",
              "    <tr>\n",
              "      <th>2<\/th>\n",
              "      <td>AJ3L5J7GN09SV<\/td>\n",
              "      <td>2<\/td>\n",
              "      <td>i bought the grove square hazelnut cappuccino ...<\/td>\n",
              "    <\/tr>\n",
              "    <tr>\n",
              "      <th>3<\/th>\n",
              "      <td>A3CZD34ZTUJME7<\/td>\n",
              "      <td>1<\/td>\n",
              "      <td>i love my keurig  and i love most of the keuri...<\/td>\n",
              "    <\/tr>\n",
              "    <tr>\n",
              "      <th>4<\/th>\n",
              "      <td>AWKN396SHAQGP<\/td>\n",
              "      <td>1<\/td>\n",
              "      <td>it s a powdered drink  no filter in k cup  br ...<\/td>\n",
              "    <\/tr>\n",
              "  <\/tbody>\n",
              "<\/table>\n",
              "<\/div>"
            ]
          },
          "metadata":{
            
          },
          "output_type":"display_data"
        }
      ],
      "metadata":{
        
      }
    },
    {
      "cell_type":"code",
      "source":[
        "data.shape"
      ],
      "execution_count":12,
      "outputs":[
        {
          "data":{
            "text\/plain":[
              "(542, 3)"
            ]
          },
          "metadata":{
            
          },
          "output_type":"display_data"
        }
      ],
      "metadata":{
        
      }
    },
    {
      "cell_type":"markdown",
      "source":[
        "## Question 2 ##"
      ],
      "attachments":{
        
      },
      "metadata":{
        
      }
    },
    {
      "cell_type":"markdown",
      "source":[
        "Prepare the data for modeling:\n",
        "* Split the data into training and test sets. You should have four sets of data - X_train, X_test, y_train, y_test\n",
        "\n",
        "Create numerical features with Count Vectorizer. Create two document-term matrices:\n",
        "* Matrix 1: Terms should be unigrams (single words), and values should be word counts (Hint: this is the Count Vectorizer default)\n",
        "* Matrix 2: Terms should be unigrams and bigrams, and values should be binary values\n",
        "\n",
        "Recommendation: Utilize Count Vectorizer's stop words function to remove stop words from the reviews text."
      ],
      "attachments":{
        
      },
      "metadata":{
        
      }
    },
    {
      "cell_type":"code",
      "source":[
        "from sklearn.model_selection import train_test_split"
      ],
      "execution_count":10,
      "outputs":[
        
      ],
      "metadata":{
        
      }
    },
    {
      "cell_type":"code",
      "source":[
        "data.columns"
      ],
      "execution_count":16,
      "outputs":[
        {
          "data":{
            "text\/plain":[
              "Index(['user_id', 'stars', 'reviews'], dtype='object')"
            ]
          },
          "metadata":{
            
          },
          "output_type":"display_data"
        }
      ],
      "metadata":{
        
      }
    },
    {
      "cell_type":"code",
      "source":[
        "Feature = data[['reviews']]\n",
        "target = data['stars']"
      ],
      "execution_count":17,
      "outputs":[
        
      ],
      "metadata":{
        
      }
    },
    {
      "cell_type":"code",
      "source":[
        "X_train,X_test,y_train,y_test = train_test_split(Feature,target,test_size=0.33, random_state=42)\n",
        "\n",
        "print(\"training Features Size of the Data:\",X_train.shape)\n",
        "print(\"Test Features Size of the Data:\",X_test.shape)\n",
        "print(\"Test Features Size of the Data:\",X_test.shape)\n",
        "print(\"Training target Size of the Data:\",y_train.shape)\n",
        "print(\"Testing target Size of the Data:\",y_test.shape)"
      ],
      "execution_count":18,
      "outputs":[
        {
          "name":"stdout",
          "text":[
            "training Features Size of the Data: (363, 1)\n",
            "Test Features Size of the Data: (179, 1)\n",
            "Test Features Size of the Data: (179, 1)\n",
            "Training target Size of the Data: (363,)\n",
            "Testing target Size of the Data: (179,)\n"
          ],
          "output_type":"stream"
        }
      ],
      "metadata":{
        
      }
    },
    {
      "cell_type":"code",
      "source":[
        "from sklearn.feature_extraction.text import CountVectorizer\n",
        "# Fit the CountVectorizer to the training data\n",
        "vect = CountVectorizer().fit(X_train)"
      ],
      "execution_count":19,
      "outputs":[
        
      ],
      "metadata":{
        
      }
    },
    {
      "cell_type":"code",
      "source":[
        "# transform the documents in the training data to a document-term matrix\n",
        "X_train_vectorized = vect.transform(X_train)"
      ],
      "execution_count":20,
      "outputs":[
        
      ],
      "metadata":{
        
      }
    },
    {
      "cell_type":"code",
      "source":[
        
      ],
      "execution_count":null,
      "outputs":[
        
      ],
      "metadata":{
        
      }
    },
    {
      "cell_type":"markdown",
      "source":[
        "## Question 3 ##"
      ],
      "attachments":{
        
      },
      "metadata":{
        
      }
    },
    {
      "cell_type":"markdown",
      "source":[
        "Use Logistic Regression to classify reviews as positive or negative. Do this for both matrices.\n",
        "* Fit a Logistic Regression model on the training data\n",
        "* Apply the model on the test data and calculate the following error metrics: accuracy, precision, recall, F1 score\n",
        "* Optional: Visualize the confusion matrix for both models\n",
        "* Compare the error metrics of the two matrices\n",
        "\n",
        "Recommendation: Create a function to calculate the error metrics, since you'll be doing this multiple times."
      ],
      "attachments":{
        
      },
      "metadata":{
        
      }
    },
    {
      "cell_type":"code",
      "source":[
        
      ],
      "execution_count":null,
      "outputs":[
        
      ],
      "metadata":{
        
      }
    },
    {
      "cell_type":"markdown",
      "source":[
        "## Question 4 ##"
      ],
      "attachments":{
        
      },
      "metadata":{
        
      }
    },
    {
      "cell_type":"markdown",
      "source":[
        "Let's try using another machine learning technique to classify these reviews as positive or negative. Go through the exact same exercise in the previous step, except this time, use Naive Bayes instead of Logistic Regression.\n",
        "\n",
        "For count data, use [Multinomial Naive Bayes](http:\/\/scikit-learn.org\/stable\/modules\/generated\/sklearn.naive_bayes.MultinomialNB.html#sklearn.naive_bayes.MultinomialNB). For binary data, use [Bernoulli Naive Bayes](http:\/\/scikit-learn.org\/stable\/modules\/generated\/sklearn.naive_bayes.BernoulliNB.html#sklearn.naive_bayes.BernoulliNB).\n",
        "\n",
        "Compare the results of both the Logistic Regression and Naive Bayes models."
      ],
      "attachments":{
        
      },
      "metadata":{
        
      }
    },
    {
      "cell_type":"markdown",
      "source":[
        "## Question 5 ##"
      ],
      "attachments":{
        
      },
      "metadata":{
        
      }
    },
    {
      "cell_type":"markdown",
      "source":[
        "Up to this point, we've been using Count Vectorizer to create document-term matrices to input into the models. For at least one of the four models you've created so far, use TF-IDF Vectorizer instead of Count Vectorizer, and see if it improves the results.\n",
        "\n",
        "Out of all of the models you've created, which model do you think best classifies positive and negative cappuccino cup reviews?"
      ],
      "attachments":{
        
      },
      "metadata":{
        
      }
    },
    {
      "cell_type":"code",
      "source":[
        
      ],
      "execution_count":null,
      "outputs":[
        
      ],
      "metadata":{
        
      }
    }
  ],
  "metadata":{
    
  },
  "nbformat":4,
  "nbformat_minor":0
}