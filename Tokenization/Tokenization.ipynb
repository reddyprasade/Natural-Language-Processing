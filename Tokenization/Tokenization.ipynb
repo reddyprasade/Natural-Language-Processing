{
 "metadata": {
  "language_info": {
   "codemirror_mode": {
    "name": "ipython",
    "version": 3
   },
   "file_extension": ".py",
   "mimetype": "text/x-python",
   "name": "python",
   "nbconvert_exporter": "python",
   "pygments_lexer": "ipython3",
   "version": "3.6.8-final"
  },
  "orig_nbformat": 2,
  "kernelspec": {
   "name": "python3",
   "display_name": "Python 3",
   "language": "python"
  }
 },
 "nbformat": 4,
 "nbformat_minor": 2,
 "cells": [
  {
   "cell_type": "code",
   "execution_count": 8,
   "metadata": {},
   "outputs": [],
   "source": [
    "from nltk.tokenize import word_tokenize"
   ]
  },
  {
   "source": [
    "# Tokenization \n",
    "* Tokens are the building blocks of Natural Language. \n",
    "* Tokenization is a way of separating a piece of text into smaller units called tokens. \n",
    "* Here, tokens can be either words, characters, or subwords. Hence, \n",
    "* Tokenization can be broadly classified into 3 types – \n",
    "    * Word, \n",
    "    * Character, or Sentence \n",
    "    * Subword (n-gram characters) tokenization."
   ],
   "cell_type": "markdown",
   "metadata": {}
  },
  {
   "source": [
    "## Word Tokenization\n",
    "![](https://lh3.googleusercontent.com/-0htCd9ggw6U/X_hYmGVmqkI/AAAAAAAAsQk/XTq16gzDR5A_-hhc9Efrfg6trpvZTlrMQCK8BGAsYHg/s0/2021-01-08.png)"
   ],
   "cell_type": "markdown",
   "metadata": {}
  },
  {
   "cell_type": "code",
   "execution_count": 9,
   "metadata": {},
   "outputs": [],
   "source": [
    "Text = \"The Cate Sat on the mat.\""
   ]
  },
  {
   "cell_type": "code",
   "execution_count": 10,
   "metadata": {},
   "outputs": [
    {
     "output_type": "execute_result",
     "data": {
      "text/plain": [
       "['The', 'Cate', 'Sat', 'on', 'the', 'mat', '.']"
      ]
     },
     "metadata": {},
     "execution_count": 10
    }
   ],
   "source": [
    "word_tokenize(Text)"
   ]
  },
  {
   "cell_type": "code",
   "execution_count": 4,
   "metadata": {},
   "outputs": [],
   "source": [
    "File = \"E:\\NLP\\NLP_v01-class2\\exercise\\Data\\cnus.txt\"\n"
   ]
  },
  {
   "cell_type": "code",
   "execution_count": 11,
   "metadata": {},
   "outputs": [],
   "source": [
    "text = ''\n",
    "with open('Data/cnus.txt','r') as f:\n",
    "    text = \" \".join([l.strip() for l in f.readlines()])"
   ]
  },
  {
   "cell_type": "code",
   "execution_count": 12,
   "metadata": {},
   "outputs": [
    {
     "output_type": "execute_result",
     "data": {
      "text/plain": [
       "riginal. That was too dangerous. But it\\'s the real goods, and you can lay to that.\" He slapped the German upon the shoulder with a rough familiarity from which the other winced.  \"Come in,\" he said. \"I\\'m all alone in the house. I was only waiting for this. Of course a copy is better than the original. If an original were missing they would change the whole thing. You think it\\'s all safe about the copy?\"  The Irish-American had entered the study and stretched his long limbs from the armchair. He was a tall, gaunt man of sixty, with clear-cut features and a small goatee beard which gave him a general resemblance to the caricatures of Uncle Sam. A half-smoked, sodden cigar hung from the corner of his mouth, and as he sat down he struck a match and relit it. \"Making ready for a move?\" he remarked as he looked round him. \"Say, mister,\" he added, as his eyes fell upon the safe from which the curtain was now removed, \"you don\\'t tell me you keep your papers in that?\"  \"Why not?\"  \"Gosh, in a wide-open contraption like that! And they reckon you to be some spy. Why, a Yankee crook would be into that with a can-opener. If I\\'d known that any letter of mine was goin\\' to lie loose in a thing like that I\\'d have been a mug to write to you at all.\"  \"It would puzzle any crook to force that safe,\" Von Bork answered. \"You won\\'t cut that metal with any tool.\"  \"But the lock?\"  \"No, it\\'s a double combination lock. You know what that is?\"  \"Search me,\" said the American.  \"Well, you need a word as well as a set of figures before you can get the lock to work.\" He rose and showed a double-radiating disc round the keyhole. \"This outer one is for the letters, the inner one for the figures.\"  \"Well, well, that\\'s fine.\"  \"So it\\'s not quite as simple as you thought. It was four years ago that I had it made, and what do you think I chose for the word and figures?\"  \"It\\'s beyond me.\"  \"Well, I chose August for the word, and 1914 for the figures, and here we are.\"  The American\\'s face showed his surprise and admiration.  \"My, but that was smart! You had it down to a fine thing.\"  \"Yes, a few of us even then could have guessed the date. Here it is, and I\\'m shutting down to-morrow morning.\"  \"Well, I guess you\\'ll have to fix me up also. I\\'m not staying is this gol-darned country all on my lonesome. In a week or less, from what I see, John Bull will be on his hind legs and fair ramping. I\\'d rather watch him from over the water.\"  \"But you\\'re an American citizen?\"  \"Well, so was Jack James an American citizen, but he\\'s doing time in Portland all the same. It cuts no ice with a British copper to tell him you\\'re an American citizen. \\'It\\'s British law and order over here,\\' says he. By the way, mister, talking of Jack James, it seems to me you don\\'t do much to cover your men.\"  \"What do you mean?\" Von Bork asked sharply.  \"Well, you are their employer, ain\\'t you? It\\'s up to you to see that they don\\'t fall down. But they do fall down, and when did you ever pick them up? There\\'s James--\"  \"It was James\\'s own fault. You know that yourself. He was too self-willed for the job.\"  \"James was a bonehead--I give you that. Then there was Hollis.\"  \"The man was mad.\"  \"Well, he went a bit woozy towards the end. It\\'s enough to make a man bug-house when he has to play a part from morning to night with a hundred guys all ready to set the coppers wise to him. But now there is Steiner--\"  Von Bork started violently, and his ruddy face turned a shade paler.  \"What about Steiner?\"  \"Well, they\\'ve got him, that\\'s all. They raided his store last night, and he and his papers are all in Portsmouth jail. You\\'ll go off and he, poor devil, will have to stand the racket, and lucky if he gets off with his life. That\\'s why I want to get over the water as soon as you do.\"  Von Bork was a strong, self-contained man, but it was easy to see that the news had shaken him.  \"How could they have got on to Steiner?\" he muttered. \"That\\'s the worst blow yet.\"  \"Well, you nearly had a worse one, for I believe they are not far off me.\"  \"You don\\'t mean that!\"  \"Sure thing. My landlady down Fratton way had some inquiries, and when I heard of it I guessed it was time for me to hustle. But what I want to know, mister, is how the coppers know these things? Steiner is the fifth man you\\'ve lost since I signed on with you, and I know the name of the sixth if I don\\'t get a move on. How do you explain it, and ain\\'t you ashamed to see your men go down like this?\"  Von Bork flushed crimson.  \"How dare you speak in such a way!\"  \"If I didn\\'t dare things, mister, I wouldn\\'t be in your service. But I\\'ll tell you straight what is in my mind. I\\'ve heard that with you German politicians when an agent has done his work you are not sorry to see him put away.\"  Von Bork sprang to his feet.  \"Do you dare to suggest that I have given away my own agents!\"  \"I don\\'t stand for that, mister, but there\\'s a stool pigeon or a cross somewhere, and it\\'s up to you to find out where it is. Anyhow I am taking no more chances. It\\'s me for little Holland, and the sooner the better.\"  Von Bork had mastered his anger.  \"We have been allies too long to quarrel now at the very hour of victory,\" he said. \"You\\'ve done splendid work and taken risks, and I can\\'t forget it. By all means go to Holland, and you can get a boat from Rotterdam to New York. No other line will be safe a week from now. I\\'ll take that book and pack it with the rest.\"  The American held the small parcel in his hand, but made no motion to give it up.  \"What about the dough?\" he asked.  \"The what?\"  \"The boodle. The reward. The Â£500. The gunner turned damned nasty at the last, and I had to square him with an extra hundred dollars or it would have been nitsky for you and me. \\'Nothin\\' doin\\'!\\' says he, and he meant it, too, but the last hundred did it. It\\'s cost me two hundred pound from first to last, so it isn\\'t likely I\\'d give it up without gettin\\' my wad.\"  Von Bork smiled with some bitterness. \"You don\\'t seem to have a very high opinion of my honour,\" said he, \"you want the money before you give up the book.\"  \"Well, mister, it is a business proposition.\"  \"All right. Have your way.\" He sat down at the table and scribbled a check, which he tore from the book, but he refrained from handing it to his companion. \"After all, since we are to be on such terms, Mr. Altamont,\" said he, \"I don\\'t see why I should trust you any more than you trust me. Do you understand?\" he added, looking back over his shoulder at the American. \"There\\'s the check upon the table. I claim the right to examine that parcel before you pick the money up.\"  The American passed it over without a word. Von Bork undid a winding of string and two wrappers of paper. Then he sat dazing for a moment in silent amazement at a small blue book which lay before him. Across the cover was printed in golden letters Practical Handbook of Bee Culture. Only for one instant did the master spy glare at this strangely irrelevant inscription. The next he was gripped at the back of his neck by a grasp of iron, and a chloroformed sponge was held in front of his writhing face.  \"Another glass, Watson!\" said Mr. Sherlock Holmes as he extended the bottle of Imperial Tokay.  The thickset chauffeur, who had seated himself by the table, pushed forward his glass with some eagerness.  \"It is a good wine, Holmes.\"  \"A remarkable wine, Watson. Our friend upon the sofa has assured me that it is from Franz Josef\\'s special cellar at the Schoenbrunn Palace. Might I trouble you to open the window, for chloroform vapour does not help the palate.\"  The safe was ajar, and Holmes standing in front of it was removing dossier after dossier, swiftly examining each, and then packing it neatly in Von Bork\\'s valise. The German lay upon the sofa sleeping stertorously with a strap round his upper arms and another round his legs.  \"We need not hurry ourselves, Watson. We are safe from interruption. Would you mind touching the bell? There is no one in the house except old Martha, who has played her part to admiration. I got her the situation here when first I took the matter up. Ah, Martha, you will be glad to hear that all is well.\"  The pleasant old lady had appeared in the doorway. She curtseyed with a smile to Mr. Holmes, but glanced with some apprehension at the figure upon the sofa.  \"It is all right, Martha. He has not been hurt at all.\"  \"I am glad of that, Mr. Holmes. According to his lights he has been a kind master. He wanted me to go with his wife to Germany yesterday, but that would hardly have suited your plans, would it, sir?\"  \"No, indeed, Martha. So long as you were here I was easy in my mind. We waited some time for your signal to-night.\"  \"It was the secretary, sir.\"  \"I know. His car passed ours.\"  \"I thought he would never go. I knew that it would not suit your plans, sir, to find him here.\"  \"No, indeed. Well, it only meant that we waited half an hour or so until I saw your lamp go out and knew that the coast was clear. You can report to me to-morrow in London, Martha, at Claridge\\'s Hotel.\"  \"Very good, sir.\"  \"I suppose you have everything ready to leave.\"  \"Yes, sir. He posted seven letters to-day. I have the addresses as usual.\"  \"Very good, Martha. I will look into them to-morrow. Good-night. These papers,\" he continued as the old lady vanished, \"are not of very great importance, for, of course, the information which they represent has been sent off long ago to the German government. These are the originals which cold not safely be got out of the country.\"  \"Then they are of no use.\"  \"I should not go so far as to say that, Watson. They will at least show our people what is known and what is not. I may say that a good many of these papers have come through me, and I need not add are thoroughly untrustworthy. It would brighten my declining years to see a German cruiser navigating the Solent according to the mine-field plans which I have furnished. But you, Watson\"--he stopped his work and took his old friend by the shoulders--\"I\\'ve hardly seen you in the light yet. How have the years used you? You look the same blithe boy as ever.\"  \"I feel twenty years younger, Holmes. I have seldom felt so happy as when I got your wire asking me to meet you at Harwich with the car. But you, Holmes--you have changed very little--save for that horrible goatee.\"  \"These are the sacrifices one makes for one\\'s country, Watson,\" said Holmes, pulling at his little tuft. \"To-morrow it will be but a dreadful memory. With my hair cut and a few other superficial changes I shall no doubt reappear at Claridge\\'s to-morrow as I was before this American stunt--I beg your pardon, Watson, my well of English seems to be permanently defiled--before this American job came my way.\"  \"But you have retired, Holmes. We heard of you as living the life of a hermit among your bees and your books in a small farm upon the South Downs.\"  \"Exactly, Watson. Here is the fruit of my leisured ease, the magnum opus of my latter years!\" He picked up the volume from the table and read out the whole title, Practical Handbook of Bee Culture, with Some Observations upon the Segregation of the Queen. \"Alone I did it. Behold the fruit of pensive nights and laborious days when I watched the little working gangs as once I watched the criminal world of London.\"  \"But how did you get to work again?\"  \"Ah, I have often marvelled at it myself. The Foreign Minister alone I could have withstood, but when the Premier also deigned to visit my humble roof--! The fact is, Watson, that this gentleman upon the sofa was a bit too good for our people. He was in a class by himself. Things were going wrong, and no one could understand why they were going wrong. Agents were suspected or even caught, but there was evidence of some strong and secret central force. It was absolutely necessary to expose it. Strong pressure was brought upon me to look into the matter. It has cost me two years, Watson, but they have not been devoid of excitement. When I say that I started my pilgrimage at Chicago, graduated in an Irish secret society at Buffalo, gave serious trouble to the constabulary at Skibbareen, and so eventually caught the eye of a subordinate agent of Von Bork, who recommended me as a likely man, you will realize that the matter was complex. Since then I have been honoured by his confidence, which has not prevented most of his plans going subtly wrong and five of his best agents being in prison. I watched them, Watson, and I picked them as they ripened. Well, sir, I hope that you are none the worse!\"  The last remark was addressed to Von Bork himself, who after much gasping and blinking had lain quietly listening to Holmes\\'s statement. He broke out now into a furious stream of German invective, his face convulsed with passion. Holmes continued his swift investigation of documents while his prisoner cursed and swore.  \"Though unmusical, German is the most expressive of all languages,\" he observed when Von Bork had stopped from pure exhaustion. \"Hullo! Hullo!\" he added as he looked hard at the corner of a tracing before putting it in the box. \"This should put another bird in the cage. I had no idea that the paymaster was such a rascal, though I have long had an eye upon him. Mister Von Bork, you have a great deal to answer for.\"  The prisoner had raised himself with some difficulty upon the sofa and was staring with a strange mixture of amazement and hatred at his captor.  \"I shall get level with you, Altamont,\" he said, speaking with slow deliberation. \"If it takes me all my life I shall get level with you!\"  \"The old sweet song,\" said Holmes. \"How often have I heard it in days gone by. It was a favorite ditty of the late lamented Professor Moriarty.  Colonel Sebastian Moran has also been known to warble it. And yet I live and keep bees upon the South Downs.\"  \"Curse you, you double traitor!\" cried the German, straining against his bonds and glaring murder from his furious eyes.  \"No, no, it is not so bad as that,\" said Holmes, smiling. \"As my speech surely shows you, Mr. Altamont of Chicago had no existence in fact. I used him and he is gone.\"  \"Then who are you?\"  \"It is really immaterial who I am, but since the matter seems to interest you, Mr. Von Bork, I may say that this is not my first acquaintance with the members of your family. I have done a good deal of business in Germany in the past and my name is probably familiar to you.\"  \"I would wish to know it,\" said the Prussian grimly.  \"It was I who brought about the separation between Irene Adler and the late King of Bohemia when your cousin Heinrich was the Imperial Envoy. It was I also who saved from murder, by the Nihilist Klopman, Count Von und Zu Grafenstein, who was your mother\\'s elder brother. It was I--\"  Von Bork sat up in amazement.  \"There is only one man,\" he cried.  \"Exactly,\" said Holmes.  Von Bork groaned and sank back on the sofa. \"And most of that information came through you,\" he cried. \"What is it worth? What have I done? It is my ruin forever!\"  \"It is certainly a little untrustworthy,\" said Holmes. \"It will require some checking and you have little time to check it. Your admiral may find the new guns rather larger than he expects, and the cruisers perhaps a trifle faster.\"  Von Bork clutched at his own throat in despair.  \"There are a good many other points of detail which will, no doubt, come to light in good time. But you have one quality which is very rare in a German, Mr. Von Bork: you are a sportsman and you will bear me no ill-will when you realize that you, who have outwitted so many other people, have at last been outwitted yourself. After all, you have done your best for your country, and I have done my best for mine, and what could be more natural? Besides,\" he added, not unkindly, as he laid his hand upon the shoulder of the prostrate man, \"it is better than to fall before some ignoble foe. These papers are now ready, Watson. If you will help me with our prisoner, I think that we may get started for London at once.\"  It was no easy task to move Von Bork, for he was a strong and a desperate man. Finally, holding either arm, the two friends walked him very slowly down the garden walk which he had trod with such proud confidence when he received the congratulations of the famous diplomatist only a few hours before. After a short, final struggle he was hoisted, still bound hand and foot, into the spare seat of the little car. His precious valise was wedged in beside him.  \"I trust that you are as comfortable as circumstances permit,\" said Holmes when the final arrangements were made. \"Should I be guilty of a liberty if I lit a cigar and placed it between your lips?\"  But all amenities were wasted upon the angry German.  \"I suppose you realize, Mr. Sherlock Holmes,\" said he, \"that if your government bears you out in this treatment it becomes an act of war.\"  \"What about your government and all this treatment?\" said Holmes, tapping the valise.  \"You are a private individual. You have no warrant for my arrest. The whole proceeding is absolutely illegal and outrageous.\"  \"Absolutely,\" said Holmes.  \"Kidnapping a German subject.\"  \"And stealing his private papers.\"  \"Well, you realize your position, you and your accomplice here. If I were to shout for help as we pass through the village--\"  \"My dear sir, if you did anything so foolish you would probably enlarge the two limited titles of our village inns by giving us \\'The Dangling Prussian\\' as a signpost. The Englishman is a patient creature, but at present his temper is a little inflamed, and it would be as well not to try him too far. No, Mr. Von Bork, you will go with us in a quiet, sensible fashion to Scotland Yard, whence you can send for your friend, Baron Von Herling, and see if even now you may not fill that place which he has reserved for you in the ambassadorial suite. As to you, Watson, you are joining us with your old service, as I understand, so London won\\'t be out of your way. Stand with me here upon the terrace, for it may be the last quiet talk that we shall ever have.\"  The two friends chatted in intimate converse for a few minutes, recalling once again the days of the past, while their prisoner vainly wriggled to undo the bonds that held him. As they turned to the car Holmes pointed back to the moonlit sea and shook a thoughtful head.  \"There\\'s an east wind coming, Watson.\"  \"I think not, Holmes. It is very warm.\"  \"Good old Watson! You are the one fixed point in a changing age. There\\'s an east wind coming all the same, such a wind as never blew on England yet. It will be cold and bitter, Watson, and a good many of us may wither before its blast. But it\\'s God\\'s own wind none the less, and a cleaner, better, stronger land will lie in the sunshine when the storm has cleared. Start her up, Watson, for it\\'s time that we were on our way. I have a check for five hundred pounds which should be cashed early, for the drawer is quite capable of stopping it if he can.\"          ---------- This text is provided to you \"as-is\" without any warranty. No warranties of any kind, expressed or implied, are made to you as to the text or any medium it may be on, including but not limited to warranties of merchantablity or fitness for a particular purpose.  Pictures for \"The Adventure of the Dancing Men\", \"The Adventure of the Priory School\", \"The Adventure of the Golden Pince-Nez\" and \"The Adventure of the Missing Three-Quarter\" were taken from a 1911 edition of the \"The Memoirs of Sherlock Holmes\" by Smith, Elder & Co. of London.  Pictures for \"The Adventure of the Dancing Men\" were taken from a 1915 edition of \"The Return of Sherlock Holmes\" by Smith, Elder & Co. of London.  This text was formatted from various free ASCII and HTML variants. See http://sherlock-holm.es for an electronic form of this text and additional information about it.  This text comes from the collection\\'s version 3.1.      '"
      ]
     },
     "metadata": {},
     "execution_count": 12
    }
   ],
   "source": [
    "text"
   ]
  },
  {
   "cell_type": "code",
   "execution_count": 14,
   "metadata": {},
   "outputs": [
    {
     "output_type": "execute_result",
     "data": {
      "text/plain": [
       "74"
      ]
     },
     "metadata": {},
     "execution_count": 14
    }
   ],
   "source": [
    "li = word_tokenize(text) # Out is in the form list\n",
    "li.count('THE')"
   ]
  },
  {
   "source": [
    "## Tokenization: Sentences"
   ],
   "cell_type": "markdown",
   "metadata": {}
  },
  {
   "cell_type": "code",
   "execution_count": 15,
   "metadata": {},
   "outputs": [],
   "source": [
    "from nltk.tokenize import sent_tokenize"
   ]
  },
  {
   "cell_type": "code",
   "execution_count": 16,
   "metadata": {},
   "outputs": [
    {
     "output_type": "execute_result",
     "data": {
      "text/plain": [
       "['The Cate Sat on the mat.']"
      ]
     },
     "metadata": {},
     "execution_count": 16
    }
   ],
   "source": [
    "S_LI = sent_tokenize(Text)\n",
    "S_LI"
   ]
  },
  {
   "cell_type": "code",
   "execution_count": 17,
   "metadata": {},
   "outputs": [],
   "source": [
    "s_li = sent_tokenize(text)"
   ]
  },
  {
   "cell_type": "code",
   "execution_count": 18,
   "metadata": {},
   "outputs": [
    {
     "output_type": "execute_result",
     "data": {
      "text/plain": [
       "cabman who drove them?',\n",
       " 'How could one man compel another to take poison?',\n",
       " 'Where did the blood come from?',\n",
       " 'What was the object of the murderer, since robbery had no part in it?',\n",
       " \"How came the woman's ring there?\",\n",
       " 'Above all, why should the second man write up the German word RACHE before decamping?',\n",
       " 'I confess that I cannot see any possible way of reconciling all these facts.\"',\n",
       " 'My companion smiled approvingly.',\n",
       " '\"You sum up the difficulties of the situation succinctly and well,\" he said.',\n",
       " '\"There is much that is still obscure, though I have quite made up my mind on the main facts.',\n",
       " \"As to poor Lestrade's discovery it was simply a blind intended to put the police upon a wrong track, by suggesting Socialism and secret societies.\",\n",
       " 'It was not done by a German.',\n",
       " 'The A, if you noticed, was printed somewhat after the German fashion.',\n",
       " 'Now, a real German invariably prints in the Latin character, so that we may safely say that this was not written by one, but by a clumsy imitator who overdid his part.',\n",
       " 'It was simply a ruse to divert inquiry into a wrong channel.',\n",
       " \"I'm not going to tell you much more of the case, Doctor.\",\n",
       " 'You know a conjuror gets no credit when once he has explained his trick, and if I show you too much of my method of working, you will come to the conclusion that I am a very ordinary individual after all.\"',\n",
       " '\"I shall never do that,\" I answered; \"you have brought detection as near an exact science as it ever will be brought in this world.\"',\n",
       " 'My companion flushed up with pleasure at my words, and the earnest way in which I uttered them.',\n",
       " 'I had already observed that he was as sensitive to flattery on the score of his art as any girl could be of her beauty.',\n",
       " '\"I\\'ll tell you one other thing,\" he said.',\n",
       " '\"Patent-leathers and Square-toes came in the same cab, and they walked down the pathway together as friendly as possible--arm-in-arm, in all probability.',\n",
       " 'When they got inside they walked up and down the room--or rather, Patent-leathers stood still while Square-toes walked up and down.',\n",
       " 'I could read all that in the dust; and I could read that as he walked he grew more and more excited.',\n",
       " 'That is shown by the increased length of his strides.',\n",
       " 'He was talking all the while, and working himself up, no doubt, into a fury.',\n",
       " 'Then the tragedy occurred.',\n",
       " \"I've told you all I know myself now, for the rest is mere surmise and conjecture.\",\n",
       " 'We have a good working basis, however, on which to start.',\n",
       " 'We must hurry up, for I want to go to Halle\\'s concert to hear Norman Neruda this afternoon.\"',\n",
       " 'This conversation had occurred while our cab had been threading its way through a long succession of dingy streets and dreary by-ways.',\n",
       " 'In the dingiest and dreariest of them our driver suddenly came to a stand.',\n",
       " '\"That\\'s Audley Court in there,\" he said, pointing to a narrow slit in the line of dead-coloured brick.',\n",
       " '\"You\\'ll find me here when you come back.\"',\n",
       " 'Audley Court was not an attractive locality.',\n",
       " 'The narrow passage led us into a quadrangle paved with flags and lined by sordid dwellings.',\n",
       " 'We picked our way among groups of dirty children, and through lines of discoloured linen, until we came to Number 46, the door of which was decorated with a small slip of brass on which the name Rance was engraved.',\n",
       " 'On enquiry we found that the constable was in bed, and we were shown into a little front parlour to await his coming.',\n",
       " 'He appeared presently, looking a little irritable at being disturbed in his slumbers.',\n",
       " '\"I made my report at the office,\" he said.',\n",
       " 'Holmes took a half-sovereign from his pocket and played with it pensively.',\n",
       " '\"We thought that we should like to hear it all from your own lips,\" he said.',\n",
       " '\"I shall be most happy to tell you anything I can,\" the constable answered with his eyes upon the little golden disk.',\n",
       " '\"Just let us hear it all in your own way as it occurred.\"',\n",
       " 'Rance sat down on the horsehair sofa, and knitted his brows as though determined not to omit anything in his narrative.',\n",
       " '\"I\\'ll tell it ye from the beginning,\" he said.',\n",
       " '\"My time is from ten at night to six in the morning.',\n",
       " \"At eleven there was a fight at the 'White Hart'; but bar that all was quiet enough on the beat.\",\n",
       " \"At one o'clock it began to rain, and I met Harry Murcher--him who has the Holland Grove beat--and we stood together at the corner of Henrietta Street a-talkin'.\",\n",
       " 'Presently--maybe about two or a little after--I thought I would take a look round and see that all was right down the Brixton Road.',\n",
       " 'It was precious dirty and lonely.',\n",
       " 'Not a soul did I meet all the way down, though a cab or two went past me.',\n",
       " \"I was a strollin' down, thinkin' between ourselves how uncommon handy a four of gin hot would be, when suddenly the glint of a light caught my eye in the window of that same house.\",\n",
       " \"Now, I knew that them two houses in Lauriston Gardens was empty on account of him that owns them who won't have the drains seed to, though the very last tenant what lived in one of them died o' typhoid fever.\",\n",
       " 'I was knocked all in a heap therefore at seeing a light in the window, and I suspected as something was wrong.',\n",
       " 'When I got to the door--\"  \"You stopped, and then walked back to the garden gate,\" my companion interrupted.',\n",
       " '\"What did you do that for?\"',\n",
       " 'Rance gave a violent jump, and stared at Sherlock Holmes with the utmost amazement upon his features.',\n",
       " '\"Why, that\\'s true, sir,\" he said; \"though how you come to know it, Heaven only knows.',\n",
       " \"Ye see, when I got up to the door it was so still and so lonesome, that I thought I'd be none the worse for some one with me.\",\n",
       " \"I ain't afeared of anything on this side o' the grave; but I thought that maybe it was him that died o' the typhoid inspecting the drains what killed him.\",\n",
       " 'The thought gave me a kind o\\' turn, and I walked back to the gate to see if I could see Murcher\\'s lantern, but there wasn\\'t no sign of him nor of anyone else.\"',\n",
       " '\"There was no one in the street?\"',\n",
       " '\"Not a livin\\' soul, sir, nor as much as a dog.',\n",
       " 'Then I pulled myself together and went back and pushed the door open.',\n",
       " \"All was quiet inside, so I went into the room where the light was a-burnin'.\",\n",
       " 'There was a candle flickerin\\' on the mantelpiece--a red wax one--and by its light I saw--\"  \"Yes, I know all that you saw.',\n",
       " 'You walked round the room several times, and you knelt down by the body, and then you walked through and tried the kitchen door, and then--\"  John Rance sprang to his feet with a frightened face and suspicion in his eyes.',\n",
       " '\"Where was you hid to see all that?\"',\n",
       " 'he cried.',\n",
       " '\"It seems to me that you knows a deal more than you should.\"',\n",
       " 'Holmes laughed and threw his card across the table to the constable.',\n",
       " '\"Don\\'t get arresting me for the murder,\" he said.',\n",
       " '\"I am one of the hounds and not the wolf; Mr. Gregson or Mr. Lestrade will answer for that.',\n",
       " 'Go on, though.',\n",
       " 'What did you do next?\"',\n",
       " 'Rance resumed his seat, without however losing his mystified expression.',\n",
       " '\"I went back to the gate and sounded my whistle.',\n",
       " 'That brought Murcher and two more to the spot.\"',\n",
       " '\"Was the street empty then?\"',\n",
       " '\"Well, it was, as far as anybody that could be of any good goes.\"',\n",
       " '\"What do you mean?\"',\n",
       " \"The constable's features broadened into a grin.\",\n",
       " '\"I\\'ve seen many a drunk chap in my time,\" he said, \"but never anyone so cryin\\' drunk as that cove.',\n",
       " \"He was at the gate when I came out, a-leanin' up ag'in the railings, and a-singin' at the pitch o' his lungs about Columbine's New-fangled Banner, or some such stuff.\",\n",
       " 'He couldn\\'t stand, far less help.\"',\n",
       " '\"What sort of a man was he?\"',\n",
       " 'asked Sherlock Holmes.',\n",
       " 'John Rance appeared to be somewhat irritated at this digression.',\n",
       " '\"He was an uncommon drunk sort o\\' man,\" he said.',\n",
       " '\"He\\'d ha\\' found hisself in the station if we hadn\\'t been so took up.\"',\n",
       " '\"His face--his dress--didn\\'t you notice them?\"',\n",
       " 'Holmes broke in impatiently.',\n",
       " '\"I should think I did notice them, seeing that I had to prop him up--me and Murcher between us.',\n",
       " 'He was a long chap, with a red face, the lower part muffled round--\"  \"That will do,\" cried Holmes.',\n",
       " '\"What became of him?\"',\n",
       " '\"We\\'d enough to do without lookin\\' after him,\" the policeman said, in an aggrieved voice.',\n",
       " '\"I\\'ll wager he found his way home all right.\"',\n",
       " '\"How was he dressed?\"',\n",
       " '\"A brown overcoat.\"',\n",
       " '\"Had he a whip in his hand?\"',\n",
       " '\"A whip--no.\"',\n",
       " '\"He must have left it behind,\" muttered my companion.',\n",
       " '\"You didn\\'t happen to see or hear a cab after that?\"',\n",
       " '\"No.\"',\n",
       " '\"There\\'s a half-sovereign for you,\" my companion said, standing up and taking his hat.',\n",
       " '\"I am afraid, Rance, that you will never rise in the force.',\n",
       " 'That head of yours should be for use as well as ornament.',\n",
       " \"You might have gained your sergeant's stripes last night.\",\n",
       " 'The man whom you held in your hands is the man who holds the clue of this mystery, and whom we are seeking.',\n",
       " 'There is no use of arguing about it now; I tell you that it is so.',\n",
       " 'Come along, Doctor.\"',\n",
       " 'We started off for the cab together, leaving our informant incredulous, but obviously uncomfortable.',\n",
       " '\"The blundering fool,\" Holmes said, bitterly, as we drove back to our lodgings.',\n",
       " '\"Just to think of his having such an incomparable bit of good luck, and not taking advantage of it.\"',\n",
       " '\"I am rather in the dark still.',\n",
       " 'It is true that the description of this man tallies with your idea of the second party in this mystery.',\n",
       " 'But why should he come back to the house after leaving it?',\n",
       " 'That is not the way of criminals.\"',\n",
       " '\"The ring, man, the ring: that was what he came back for.',\n",
       " 'If we have no other way of catching him, we can always bait our line with the ring.',\n",
       " \"I shall have him, Doctor--I'll lay you two to one that I have him.\",\n",
       " 'I must thank you for it all.',\n",
       " 'I might not have gone but for you, and so have missed the finest study I ever came across: a study in scarlet, eh?',\n",
       " \"Why shouldn't we use a little art jargon.\",\n",
       " \"There's the scarlet thread of murder running through the colourless skein of life, and our duty is to unravel it, and isolate it, and expose every inch of it.\",\n",
       " 'And now for lunch, and then for Norman Neruda.',\n",
       " 'Her attack and her bowing are splendid.',\n",
       " 'What\\'s that little thing of Chopin\\'s she plays so magnificently: Tra-la-la-lira-lira-lay.\"',\n",
       " 'Leaning back in the cab, this amateur bloodhound carolled away like a lark while I meditated upon the many-sidedness of the human mind.',\n",
       " \"CHAPTER V Our Advertisement Brings A Visitor   Our morning's exertions had been too much for my weak health, and I was tired out in the afternoon.\",\n",
       " \"After Holmes' departure for the concert, I lay down upon the sofa and endeavoured to get a couple of hours' sleep.\",\n",
       " 'It was a useless attempt.',\n",
       " 'My mind had been too much excited by all that had occurred, and the strangest fancies and surmises crowded into it.',\n",
       " 'Every time that I closed my eyes I saw before me the distorted baboon-like countenance of the murdered man.',\n",
       " 'So sinister was the impression which that face had produced upon me that I found it difficult to feel anything but gratitude for him who had removed its owner from the world.',\n",
       " 'If ever human features bespoke vice of the most malignant type, they were certainly those of Enoch J. Drebber, of Cleveland.',\n",
       " 'Still I recognized that justice must be done, and that the depravity of the victim was no condonement in the eyes of the law.',\n",
       " \"The more I thought of it the more extraordinary did my companion's hypothesis, that the man had been poisoned, appear.\",\n",
       " 'I remembered how he had sniffed his lips, and had no doubt that he had detected something which had given rise to the idea.',\n",
       " \"Then, again, if not poison, what had caused the man's death, since there was neither wound nor marks of strangulation?\",\n",
       " 'But, on the other hand, whose blood was that which lay so thickly upon the floor?',\n",
       " 'There were no signs of a struggle, nor had the victim any weapon with which he might have wounded an antagonist.',\n",
       " 'As long as all these questions were unsolved, I felt that sleep would be no easy matter, either for Holmes or myself.',\n",
       " 'His quiet self-confident manner convinced me that he had already formed a theory which explained all the facts, though what it was I could not for an instant conjecture.',\n",
       " 'He was very late in returning--so late, that I knew that the concert could not have detained him all the time.',\n",
       " 'Dinner was on the table before he appeared.',\n",
       " '\"It was magnificent,\" he said, as he took his seat.',\n",
       " '\"Do you remember what Darwin says about music?',\n",
       " 'He claims that the power of producing and appreciating it existed among the human race long before the power of speech was arrived at.',\n",
       " 'Perhaps that is why we are so subtly influenced by it.',\n",
       " 'There are vague memories in our souls of those misty centuries when the world was in its childhood.\"',\n",
       " '\"That\\'s rather a broad idea,\" I remarked.',\n",
       " '\"One\\'s ideas must be as broad as Nature if they are to interpret Nature,\" he answered.',\n",
       " '\"What\\'s the matter?',\n",
       " \"You're not looking quite yourself.\",\n",
       " 'This Brixton Road affair has upset you.\"',\n",
       " '\"To tell the truth, it has,\" I said.',\n",
       " '\"I ought to be more case-hardened after my Afghan experiences.',\n",
       " 'I saw my own comrades hacked to pieces at Maiwand without losing my nerve.\"',\n",
       " '\"I can understand.',\n",
       " 'There is a mystery about this which stimulates the imagination; where there is no imagination there is no horror.',\n",
       " 'Have you seen the evening paper?\"',\n",
       " '\"No.\"',\n",
       " '\"It gives a fairly good account of the affair.',\n",
       " \"It does not mention the fact that when the man was raised up, a woman's wedding ring fell upon the floor.\",\n",
       " 'It is just as well it does not.\"',\n",
       " '\"Why?\"',\n",
       " '\"Look at this advertisement,\" he answered.',\n",
       " '\"I had one sent to every paper this morning immediately after the affair.\"',\n",
       " 'He threw the paper across to me and I glanced at the place indicated.',\n",
       " 'It was the first announcement in the \"Found\" column.',\n",
       " '\"In Brixton Road, this morning,\" it ran, \"a plain gold wedding ring, found in the roadway between the \\'White Hart\\' Tavern and Holland Grove.',\n",
       " 'Apply Dr. Watson, 221b, Baker Street, between eight and nine this evening.\"',\n",
       " '\"Excuse my using your name,\" he said.',\n",
       " '\"If I used my own some of these dunderheads would recognize it, and want to meddle in the affair.\"',\n",
       " '\"That is all right,\" I answered.',\n",
       " '\"But supposing anyone applies, I have no ring.\"',\n",
       " '\"Oh yes, you have,\" said he, handing me one.',\n",
       " '\"This will do very well.',\n",
       " 'It is almost a facsimile.\"',\n",
       " '\"And who do you expect will answer this advertisement.\"',\n",
       " '\"Why, the man in the brown coat--our florid friend with the square toes.',\n",
       " 'If he does not come himself he will send an accomplice.\"',\n",
       " '\"Would he not consider it as too dangerous?\"',\n",
       " '\"Not at all.',\n",
       " 'If my view of the case is correct, and I have every reason to believe that it is, this man would rather risk anything than lose the ring.',\n",
       " \"According to my notion he dropped it while stooping over Drebber's body, and did not miss it at the time.\",\n",
       " 'After leaving the house he discovered his loss and hurried back, but found the police already in possession, owing to his own folly in leaving the candle burning.',\n",
       " 'He had to pretend to be drunk in order to allay the suspicions which might have been aroused by his appearance at the gate.',\n",
       " \"Now put yourself in that man's place.\",\n",
       " 'On thinking the matter over, it must have occurred to him that it was possible that he had lost the ring in the road after leaving the house.',\n",
       " 'What would he do, then?',\n",
       " 'He would eagerly look out for the evening papers in the hope of seeing it among the articles found.',\n",
       " 'His eye, of course, would light upon this.',\n",
       " 'He would be overjoyed.',\n",
       " 'Why should he fear a trap?',\n",
       " 'There would be no reason in his eyes why the finding of the ring should be connected with the murder.',\n",
       " 'He would come.',\n",
       " 'He will come.',\n",
       " 'You shall see him within an hour.\"',\n",
       " '\"And then?\"',\n",
       " 'I asked.',\n",
       " '\"Oh, you can leave me to deal with him then.',\n",
       " 'Have you any arms?\"',\n",
       " '\"I have my old service revolver and a few cartridges.\"',\n",
       " '\"You had better clean it and load it.',\n",
       " 'He will be a desperate man, and though I shall take him unawares, it is as well to be ready for anything.\"',\n",
       " 'I went to my bedroom and followed his advice.',\n",
       " 'When I returned with the pistol the table had been cleared, and Holmes was engaged in his favourite occupation of scraping upon his violin.',\n",
       " '\"The plot thickens,\" he said, as I entered; \"I have just had an answer to my American telegram.',\n",
       " 'My view of the case is the correct one.\"',\n",
       " '\"And that is?\"',\n",
       " 'I asked eagerly.',\n",
       " '\"My fiddle would be the better for new strings,\" he remarked.',\n",
       " '\"Put your pistol in your pocket.',\n",
       " 'When the fellow comes speak to him in an ordinary way.',\n",
       " 'Leave the rest to me.',\n",
       " 'Don\\'t frighten him by looking at him too hard.\"',\n",
       " '\"It is eight o\\'clock now,\" I said, glancing at my watch.',\n",
       " '\"Yes.',\n",
       " 'He will probably be here in a few minutes.',\n",
       " 'Open the door slightly.',\n",
       " 'That will do.',\n",
       " 'Now put the key on the inside.',\n",
       " 'Thank you!',\n",
       " 'This is a queer old book I picked up at a stall yesterday--De Jure inter Gentes--published in Latin at Liege in the Lowlands, in 1642.',\n",
       " 'Charles\\' head was still firm on his shoulders when this little brown-backed volume was struck off.\"',\n",
       " '\"Who is the printer?\"',\n",
       " '\"Philippe de Croy, whoever he may have been.',\n",
       " \"On the fly-leaf, in very faded ink, is written 'Ex libris Guliolmi Whyte.'\",\n",
       " 'I wonder who William Whyte was.',\n",
       " 'Some pragmatical seventeenth century lawyer, I suppose.',\n",
       " 'His writing has a legal twist about it.',\n",
       " 'Here comes our man, I think.\"',\n",
       " 'As he spoke there was a sharp ring at the bell.',\n",
       " 'Sherlock Holmes rose softly and moved his chair in the direction of the door.',\n",
       " 'We heard the servant pass along the hall, and the sharp click of the latch as she opened it.',\n",
       " '\"Does Dr. Watson live here?\"',\n",
       " 'asked a clear but rather harsh voice.',\n",
       " \"We could not hear the servant's reply, but the door closed, and some one began to ascend the stairs.\",\n",
       " 'The footfall was an uncertain and shuffling one.',\n",
       " 'A look of surprise passed over the face of my companion as he listened to it.',\n",
       " 'It came slowly along the passage, and there was a feeble tap at the door.',\n",
       " '\"Come in,\" I cried.',\n",
       " 'At my summons, instead of the man of violence whom we expected, a very old and wrinkled woman hobbled into the apartment.',\n",
       " 'She appeared to be dazzled by the sudden blaze of light, and after dropping a curtsey, she stood blinking at us with her bleared eyes and fumbling in her pocket with nervous, shaky fingers.',\n",
       " 'I glanced at my companion, and his face had assumed such a disconsolate expression that it was all I could do to keep my countenance.',\n",
       " 'The old crone drew out an evening paper, and pointed at our advertisement.',\n",
       " '\"It\\'s this as has brought me, good gentlemen,\" she said, dropping another curtsey; \"a gold wedding ring in the Brixton Road.',\n",
       " \"It belongs to my girl Sally, as was married only this time twelvemonth, which her husband is steward aboard a Union boat, and what he'd say if he comes 'ome and found her without her ring is more than I can think, he being short enough at the best o' times, but more especially when he has the drink.\",\n",
       " 'If it please you, she went to the circus last night along with--\"  \"Is that her ring?\"',\n",
       " 'I asked.',\n",
       " '\"The Lord be thanked!\"',\n",
       " 'cried the old woman; \"Sally will be a glad woman this night.',\n",
       " 'That\\'s the ring.\"',\n",
       " '\"And what may your address be?\"',\n",
       " 'I inquired, taking up a pencil.',\n",
       " '\"13, Duncan Street, Houndsditch.',\n",
       " 'A weary way from here.\"',\n",
       " '\"The Brixton Road does not lie between any circus and Houndsditch,\" said Sherlock Holmes sharply.',\n",
       " 'The old woman faced round and looked keenly at him from her little red-rimmed eyes.',\n",
       " '\"The gentleman asked me for my address,\" she said.',\n",
       " ...]"
      ]
     },
     "metadata": {},
     "execution_count": 18
    }
   ],
   "source": [
    "s_li"
   ]
  },
  {
   "cell_type": "code",
   "execution_count": 19,
   "metadata": {},
   "outputs": [],
   "source": [
    "my_text = \"Hi Mr. Smith! I’m going to buy some vegetables (tomatoes and cucumbers) from the store. Should I pick up some black-eyed peas as well?\"\n"
   ]
  },
  {
   "cell_type": "code",
   "execution_count": 20,
   "metadata": {},
   "outputs": [
    {
     "output_type": "execute_result",
     "data": {
      "text/plain": [
       "['Hi Mr. Smith!',\n",
       " 'I’m going to buy some vegetables (tomatoes and cucumbers) from the store.',\n",
       " 'Should I pick up some black-eyed peas as well?']"
      ]
     },
     "metadata": {},
     "execution_count": 20
    }
   ],
   "source": [
    "sent_tokenize(my_text)"
   ]
  },
  {
   "source": [
    "## Tokenization (N-Grams) or SubWord\n"
   ],
   "cell_type": "markdown",
   "metadata": {}
  },
  {
   "cell_type": "code",
   "execution_count": 22,
   "metadata": {},
   "outputs": [],
   "source": [
    "from nltk.util import  ngrams "
   ]
  },
  {
   "cell_type": "code",
   "execution_count": 27,
   "metadata": {},
   "outputs": [
    {
     "output_type": "execute_result",
     "data": {
      "text/plain": [
       "[('Hi', 'Mr.'),\n",
       " ('Mr.', 'Smith'),\n",
       " ('Smith', '!'),\n",
       " ('!', 'I'),\n",
       " ('I', '’'),\n",
       " ('’', 'm'),\n",
       " ('m', 'going'),\n",
       " ('going', 'to'),\n",
       " ('to', 'buy'),\n",
       " ('buy', 'some'),\n",
       " ('some', 'vegetables'),\n",
       " ('vegetables', '('),\n",
       " ('(', 'tomatoes'),\n",
       " ('tomatoes', 'and'),\n",
       " ('and', 'cucumbers'),\n",
       " ('cucumbers', ')'),\n",
       " (')', 'from'),\n",
       " ('from', 'the'),\n",
       " ('the', 'store'),\n",
       " ('store', '.'),\n",
       " ('.', 'Should'),\n",
       " ('Should', 'I'),\n",
       " ('I', 'pick'),\n",
       " ('pick', 'up'),\n",
       " ('up', 'some'),\n",
       " ('some', 'black-eyed'),\n",
       " ('black-eyed', 'peas'),\n",
       " ('peas', 'as'),\n",
       " ('as', 'well'),\n",
       " ('well', '?')]"
      ]
     },
     "metadata": {},
     "execution_count": 27
    }
   ],
   "source": [
    "my_words = word_tokenize(my_text) # This is will give you the list of all words\n",
    "twograms = list(ngrams(my_words,2)) # This Will do for two-word combos, but can pick any n\n",
    "twograms"
   ]
  },
  {
   "cell_type": "code",
   "execution_count": 29,
   "metadata": {},
   "outputs": [
    {
     "output_type": "execute_result",
     "data": {
      "text/plain": [
       "[('Hi', 'Mr.', 'Smith'),\n",
       " ('Mr.', 'Smith', '!'),\n",
       " ('Smith', '!', 'I'),\n",
       " ('!', 'I', '’'),\n",
       " ('I', '’', 'm'),\n",
       " ('’', 'm', 'going'),\n",
       " ('m', 'going', 'to'),\n",
       " ('going', 'to', 'buy'),\n",
       " ('to', 'buy', 'some'),\n",
       " ('buy', 'some', 'vegetables'),\n",
       " ('some', 'vegetables', '('),\n",
       " ('vegetables', '(', 'tomatoes'),\n",
       " ('(', 'tomatoes', 'and'),\n",
       " ('tomatoes', 'and', 'cucumbers'),\n",
       " ('and', 'cucumbers', ')'),\n",
       " ('cucumbers', ')', 'from'),\n",
       " (')', 'from', 'the'),\n",
       " ('from', 'the', 'store'),\n",
       " ('the', 'store', '.'),\n",
       " ('store', '.', 'Should'),\n",
       " ('.', 'Should', 'I'),\n",
       " ('Should', 'I', 'pick'),\n",
       " ('I', 'pick', 'up'),\n",
       " ('pick', 'up', 'some'),\n",
       " ('up', 'some', 'black-eyed'),\n",
       " ('some', 'black-eyed', 'peas'),\n",
       " ('black-eyed', 'peas', 'as'),\n",
       " ('peas', 'as', 'well'),\n",
       " ('as', 'well', '?')]"
      ]
     },
     "metadata": {},
     "execution_count": 29
    }
   ],
   "source": [
    "threegrams = list(ngrams(my_words,3)) # This Will do for three-word combos, but can pick any n\n",
    "threegrams"
   ]
  },
  {
   "source": [
    "## Tokenization (Regular Expressions)\n",
    "\n",
    "Let’s say you want to tokenize by some other type of grouping or pattern.\n",
    "\n",
    "* Regular expressions (regex) allows you to do so.\n",
    "\n",
    "* Some examples of regular expressions:\n",
    "    * Find white spaces: \\s+\n",
    "    * Find words starting with capital letters: [A-Z]['\\w]+\n"
   ],
   "cell_type": "markdown",
   "metadata": {}
  },
  {
   "cell_type": "code",
   "execution_count": 30,
   "metadata": {},
   "outputs": [],
   "source": [
    "from nltk.tokenize import RegexpTokenizer"
   ]
  },
  {
   "cell_type": "code",
   "execution_count": 31,
   "metadata": {},
   "outputs": [],
   "source": [
    "# i want to match all Capitalized word \n",
    "cap_tokenize = RegexpTokenizer(\"[A-Z]['\\w]+\")  "
   ]
  },
  {
   "cell_type": "code",
   "execution_count": 32,
   "metadata": {},
   "outputs": [
    {
     "output_type": "execute_result",
     "data": {
      "text/plain": [
       "['Hi', 'Mr', 'Smith', 'Should']"
      ]
     },
     "metadata": {},
     "execution_count": 32
    }
   ],
   "source": [
    "cap_tokenize.tokenize(my_text)"
   ]
  },
  {
   "cell_type": "code",
   "execution_count": 35,
   "metadata": {},
   "outputs": [],
   "source": [
    "cap_tokenize_atoz = RegexpTokenizer(\"[a-z]['\\w]+\")  "
   ]
  },
  {
   "cell_type": "code",
   "execution_count": 36,
   "metadata": {},
   "outputs": [
    {
     "output_type": "execute_result",
     "data": {
      "text/plain": [
       "['mith',\n",
       " 'going',\n",
       " 'to',\n",
       " 'buy',\n",
       " 'some',\n",
       " 'vegetables',\n",
       " 'tomatoes',\n",
       " 'and',\n",
       " 'cucumbers',\n",
       " 'from',\n",
       " 'the',\n",
       " 'store',\n",
       " 'hould',\n",
       " 'pick',\n",
       " 'up',\n",
       " 'some',\n",
       " 'black',\n",
       " 'eyed',\n",
       " 'peas',\n",
       " 'as',\n",
       " 'well']"
      ]
     },
     "metadata": {},
     "execution_count": 36
    }
   ],
   "source": [
    "cap_tokenize_atoz.tokenize(my_text)"
   ]
  },
  {
   "cell_type": "code",
   "execution_count": null,
   "metadata": {},
   "outputs": [],
   "source": []
  }
 ]
}